{
 "cells": [
  {
   "cell_type": "code",
   "execution_count": 1,
   "metadata": {},
   "outputs": [],
   "source": [
    "import matplotlib.pyplot as plt\n",
    "import pandas as pd"
   ]
  },
  {
   "cell_type": "code",
   "execution_count": null,
   "metadata": {},
   "outputs": [],
   "source": [
    "# データを辞書形式で定義\n",
    "data = {\n",
    "    'model0': [0.16664739, 0.21602112071546442, 0.20780216, 0.2674656095412875],\n",
    "    'model1': [0.12731685, 0.1657191377894558, 0.1715524, 0.22430902385064247],\n",
    "    'model2': [0.11463376, 0.1499690860940069, 0.15415356, 0.2065505529143035],\n",
    "    'model3': [0.109980635, 0.1434798142718718, 0.14816703, 0.1988091090613793],\n",
    "    'model4': [0.32328784, 0.4201461015910621, 0.34640843, 0.44047965635374614],\n",
    "}\n",
    "# データフレームに変換\n",
    "df = pd.DataFrame(data, index=[\"train_rme\", \"train_rmae\", \"test_rme\", \"test_rmae\"])"
   ]
  },
  {
   "cell_type": "code",
   "execution_count": null,
   "metadata": {},
   "outputs": [],
   "source": [
    "# グラフをプロットします\n",
    "plt.figure(figsize=(10, 5))\n",
    "for column in df.columns:\n",
    "    plt.plot(df.index, df[column], marker='o', label=column)\n",
    "plt.legend()\n",
    "plt.xlabel('metric')\n",
    "plt.ylabel('value(eV)')\n",
    "plt.title('Trends by number of models')\n",
    "plt.grid(True)\n",
    "plt.savefig(\"resultplot/model.png\")\n",
    "plt.show()"
   ]
  }
 ],
 "metadata": {
  "kernelspec": {
   "display_name": "DOSnet",
   "language": "python",
   "name": "python3"
  },
  "language_info": {
   "codemirror_mode": {
    "name": "ipython",
    "version": 3
   },
   "file_extension": ".py",
   "mimetype": "text/x-python",
   "name": "python",
   "nbconvert_exporter": "python",
   "pygments_lexer": "ipython3",
   "version": "3.8.10"
  }
 },
 "nbformat": 4,
 "nbformat_minor": 2
}
