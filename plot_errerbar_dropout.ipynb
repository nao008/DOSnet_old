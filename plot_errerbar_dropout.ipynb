{
 "cells": [
  {
   "cell_type": "code",
   "execution_count": 8,
   "metadata": {},
   "outputs": [
    {
     "ename": "ModuleNotFoundError",
     "evalue": "No module named 'pandas'",
     "output_type": "error",
     "traceback": [
      "\u001b[0;31m---------------------------------------------------------------------------\u001b[0m",
      "\u001b[0;31mModuleNotFoundError\u001b[0m                       Traceback (most recent call last)",
      "\u001b[1;32m/home/naoya/Desktop/github/DOSnet/plot_errerbar_dropout.ipynb Cell 1\u001b[0m line \u001b[0;36m1\n\u001b[0;32m----> <a href='vscode-notebook-cell:/home/naoya/Desktop/github/DOSnet/plot_errerbar_dropout.ipynb#W0sZmlsZQ%3D%3D?line=0'>1</a>\u001b[0m \u001b[39mimport\u001b[39;00m \u001b[39mpandas\u001b[39;00m \u001b[39mas\u001b[39;00m \u001b[39mpd\u001b[39;00m\n\u001b[1;32m      <a href='vscode-notebook-cell:/home/naoya/Desktop/github/DOSnet/plot_errerbar_dropout.ipynb#W0sZmlsZQ%3D%3D?line=1'>2</a>\u001b[0m \u001b[39mimport\u001b[39;00m \u001b[39mnumpy\u001b[39;00m \u001b[39mas\u001b[39;00m \u001b[39mnp\u001b[39;00m\n\u001b[1;32m      <a href='vscode-notebook-cell:/home/naoya/Desktop/github/DOSnet/plot_errerbar_dropout.ipynb#W0sZmlsZQ%3D%3D?line=2'>3</a>\u001b[0m \u001b[39mimport\u001b[39;00m \u001b[39mmatplotlib\u001b[39;00m\u001b[39m.\u001b[39;00m\u001b[39mpyplot\u001b[39;00m \u001b[39mas\u001b[39;00m \u001b[39mplt\u001b[39;00m\n",
      "\u001b[0;31mModuleNotFoundError\u001b[0m: No module named 'pandas'"
     ]
    }
   ],
   "source": [
    "import pandas as pd\n",
    "import numpy as np\n",
    "import matplotlib.pyplot as plt\n",
    "# from scipy import stats\n",
    "import argparse\n",
    "\n",
    "parser = argparse.ArgumentParser(description=\"result plot\")\n",
    "parser.add_argument(\n",
    "    \"--dataname\",\n",
    "    default=\"CH_data\",\n",
    "    type=str,\n",
    ")\n",
    "\n",
    "parser.add_argument(\n",
    "    \"--data\",\n",
    "    default=\"test\",\n",
    "    type=str,\n",
    ")\n",
    "\n",
    "args = parser.parse_args()\n",
    "\n",
    "dataname = args.dataname\n",
    "alldata = args.data\n",
    "log = {}\n",
    "dropout_vals = [0.0, 0.2, 0.4, 0.6, 0.8]\n",
    "dropout_detail_vals = [0.3, 0.34, 0.38, 0.42, 0.46]\n",
    "# ファイル名のリスト\n",
    "# filenames = [f\"result/{dataname}_dropout{dropout_val}_predict_{alldata}.txt\" for dropout_val in dropout_vals]\n",
    "filenames = [f\"result/{dataname}_dropout{dropout_val}_predict_{alldata}.txt\" for dropout_val in dropout_detail_vals]\n",
    "\n",
    "# 各ファイルからデータを読み込み、データフレームに変換\n",
    "df_list = [pd.read_csv(filename, sep=\" \", header=None) for filename in filenames]\n",
    "\n",
    "#各データフレームの名称と色\n",
    "# labels = [f\"dropout:{dropout_val}\" for dropout_val in dropout_vals]\n",
    "labels = [f\"dropout:{dropout_val}\" for dropout_val in dropout_detail_vals]\n",
    "colors = ['red', 'blue', 'green', 'yellow', 'purple']\n",
    "\n",
    "fig, ax = plt.subplots()\n",
    "# プロットしたい値のリスト\n",
    "values = [0, 1, 2, 3, 4, 5, 6]\n",
    "# 抽出した全要素をまとめるdf\n",
    "all_nearest_df = pd.DataFrame()"
   ]
  }
 ],
 "metadata": {
  "kernelspec": {
   "display_name": "DOSnet",
   "language": "python",
   "name": "python3"
  },
  "language_info": {
   "codemirror_mode": {
    "name": "ipython",
    "version": 3
   },
   "file_extension": ".py",
   "mimetype": "text/x-python",
   "name": "python",
   "nbconvert_exporter": "python",
   "pygments_lexer": "ipython3",
   "version": "3.8.10"
  },
  "orig_nbformat": 4
 },
 "nbformat": 4,
 "nbformat_minor": 2
}
