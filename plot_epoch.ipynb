{
 "cells": [
  {
   "cell_type": "code",
   "execution_count": 1,
   "metadata": {},
   "outputs": [],
   "source": [
    "import matplotlib.pyplot as plt\n",
    "import pandas as pd"
   ]
  },
  {
   "cell_type": "code",
   "execution_count": null,
   "metadata": {},
   "outputs": [],
   "source": [
    "# データを定義します\n",
    "data = {\n",
    "    'train MAE': [0.22684985, 0.13963868, 0.12096729, 0.10556118, 0.099834174],\n",
    "    'train RMSE': [0.29553216353569, 0.17763033116680382, 0.15572491273736705, 0.13662158374275865, 0.13080303915307018],\n",
    "    'test MAE': [0.26087496, 0.17985545, 0.16440299, 0.14937057, 0.14799653],\n",
    "    'test RMSE': [0.3367021640666689, 0.23670846897876327, 0.22470274104234153, 0.20581440226246003, 0.20683542022784482]\n",
    "}\n",
    "\n",
    "\n",
    "# データフレームを作成します\n",
    "df = pd.DataFrame(data, index=[20, 60, 100, 150, 200])"
   ]
  },
  {
   "cell_type": "code",
   "execution_count": null,
   "metadata": {},
   "outputs": [],
   "source": [
    "# グラフをプロットします\n",
    "plt.figure(figsize=(10, 5))\n",
    "for column in df.columns:\n",
    "    plt.plot(df.index, df[column], marker='o', label=column)\n",
    "plt.legend()\n",
    "plt.xlabel('epoch')\n",
    "plt.ylabel('Value(eV)')\n",
    "plt.title('Trends by number of epochs')\n",
    "plt.grid(True)\n",
    "plt.savefig(\"resultplot/epoch.png\")\n",
    "plt.show()"
   ]
  }
 ],
 "metadata": {
  "kernelspec": {
   "display_name": "DOSnet",
   "language": "python",
   "name": "python3"
  },
  "language_info": {
   "codemirror_mode": {
    "name": "ipython",
    "version": 3
   },
   "file_extension": ".py",
   "mimetype": "text/x-python",
   "name": "python",
   "nbconvert_exporter": "python",
   "pygments_lexer": "ipython3",
   "version": "3.8.10"
  }
 },
 "nbformat": 4,
 "nbformat_minor": 2
}
